{
 "nbformat": 4,
 "nbformat_minor": 0,
 "metadata": {
  "colab": {
   "provenance": [],
   "collapsed_sections": []
  },
  "kernelspec": {
   "name": "python3",
   "display_name": "Python 3"
  },
  "language_info": {
   "name": "python"
  }
 },
 "cells": [
  {
   "cell_type": "code",
   "execution_count": 1,
   "metadata": {
    "colab": {
     "base_uri": "https://localhost:8080/"
    },
    "id": "e4lxEbSFKQlC",
    "outputId": "d33f5454-2871-4acc-9d79-347950eaf21c",
    "pycharm": {
     "name": "#%%\n"
    }
   },
   "outputs": [
    {
     "name": "stderr",
     "output_type": "stream",
     "text": [
      "[nltk_data] Downloading package stopwords to\n",
      "[nltk_data]     /Users/edwardmiller/nltk_data...\n",
      "[nltk_data]   Unzipping corpora/stopwords.zip.\n",
      "[nltk_data] Downloading package wordnet to\n",
      "[nltk_data]     /Users/edwardmiller/nltk_data...\n",
      "[nltk_data] Downloading package omw-1.4 to\n",
      "[nltk_data]     /Users/edwardmiller/nltk_data...\n"
     ]
    }
   ],
   "source": [
    "import pandas as pd\n",
    "import numpy as np\n",
    "from sklearn.linear_model import LogisticRegression\n",
    "# Basic Libraries needed\n",
    "\n",
    "import re\n",
    "import string\n",
    "import nltk\n",
    "from sklearn.feature_extraction.text import TfidfVectorizer\n",
    "from nltk.corpus import stopwords\n",
    "from nltk.stem import WordNetLemmatizer, PorterStemmer\n",
    "nltk.download('stopwords')\n",
    "nltk.download('wordnet')\n",
    "nltk.download('omw-1.4')\n",
    "# Libraries needed for text pre-processing \n",
    "# and vectorizing\n",
    "\n",
    "def basic_text_preprocessor(text_df, col_name):\n",
    "    \"\"\"\n",
    "    # this function takes in a data frame column\n",
    "    # and processes the text data\n",
    "    # into a format that is more easily analyzed for prediction\n",
    "    # It then returns the converted text column also in dataframe format \n",
    "\n",
    "    Args:\n",
    "        text_df = a column in dataframe format of text data\n",
    "        col_name = a string that matches the name of the column to be processed\n",
    "    Returns:\n",
    "        TXT = a column in dataframe form of converted text\n",
    "    \"\"\"\n",
    "    ###########################################################################\n",
    "    # INITIALIZE PRE_PROCESSING TOOLS\n",
    "    ###########################################################################\n",
    "    num_rows = len(text_df)\n",
    "    # getting number of rows and columns in data frame      \n",
    "    punctuation = \",!\\\"#$%&()*+-./:;<=>?@[\\]^_`{|}~\\n\"    \n",
    "    # Saving a list of commonly used punctuation to a string in order to remove\n",
    "    # them from the text columns   \n",
    "    stop_words = stopwords.words(\"english\")    \n",
    "    # getting list of common stopwords to remove from the text entries    \n",
    "    lemma = WordNetLemmatizer()    \n",
    "    # setting up lemmatizing function    \n",
    "    stemm =  PorterStemmer()\n",
    "    # stemming function        \n",
    "    converted_text = []        \n",
    "    # initializing list to store \n",
    "    # processed text in\n",
    "    ###########################################################################\n",
    "    # PRE-PROCESS EACH ROW OF TEXT\n",
    "    ###########################################################################\n",
    "    for i in range(num_rows):            \n",
    "      # go through each row            \n",
    "        new_text = text_df.iloc[i].lower()                        \n",
    "        # makes text lower case             \n",
    "        for char in new_text:                \n",
    "            if char in punctuation:                    \n",
    "              new_text = new_text.replace(char, \" \")            \n",
    "              # removing punctuation                        \n",
    "        new_text = new_text.split()            \n",
    "            # splitting up the text into individual words            \n",
    "        for word in new_text:    \n",
    "            if word in stop_words:        \n",
    "              new_text.remove(word)            \n",
    "              # removing stop words            \n",
    "        for word in new_text:                \n",
    "            lemma.lemmatize(word)                \n",
    "            # lemmatizing words            \n",
    "        for word in new_text:                \n",
    "            stemm.stem(word)            \n",
    "            # stemming words                        \n",
    "        new_text = \" \".join(new_text)            \n",
    "        converted_text.append(new_text)                  \n",
    "        # add to converted_text list     \n",
    "    ###########################################################################\n",
    "    # CONVERT LIST TO DATA FRAME AND RETURN COLUMN\n",
    "    ###########################################################################\n",
    "    txt_ppr = pd.DataFrame(converted_text, \n",
    "                       columns = [col_name], index = text_df.index)\n",
    "    # setting up a new data frame to fill with pre-processed text  \n",
    "    return txt_ppr\n",
    "\n",
    "def Model_Stacking_String_Matrix(df, col_name, X, Y, **params):\n",
    "    \"\"\"\n",
    "    # This function will take in a full data frame \n",
    "    # that contains a column containing string data, along with a  \n",
    "    # text column from the training set and the corresponding labels.\n",
    "    # In the new data frame it will isolate the text\n",
    "    # column, preprocess the string data, use TF_IDF to vectorize the column, and \n",
    "    # finally fit a Logistic Regression model with the passed parameters \n",
    "    # to the training set. It will use this Logistic Regression model trained on\n",
    "    # the X and Y data to make predictions on the specified column(col_name) in\n",
    "    # the data frame (df) passed to the function, and then finally put the \n",
    "    # columns together and return a dataframe contiaining the text column \n",
    "    # predictions in the exact same order \n",
    "\n",
    "    ASSUMPTIONS: User is passing a dataframe where the missing values have \n",
    "    been dealt with and standard scaling has either taken place or is not\n",
    "    needed. Ideally, Logisitic Regression and the parameters passed have been\n",
    "    determined to be the best fit for the string data in the column\n",
    "\n",
    "    Args: \n",
    "          df: A dataframe containing a column of string data\n",
    "          col_name: A string matching the column name of the column to be \n",
    "          transformed\n",
    "          X: a column containing string data from the training set \n",
    "          Y: a column of integers indicating the target column from the \n",
    "          training set used\n",
    "          params: A dictionary of parameters for the Logistic Regression model\n",
    "\n",
    "    Return: \n",
    "          text_df: the same dataframe as df except with the colmmn referenced by\n",
    "          col_name replaced by a column of predictions\n",
    "    \"\"\"\n",
    "    ###########################################################################\n",
    "    # PRE_PROCESS STRING COLUMN\n",
    "    ###########################################################################\n",
    "    df_copy = df.copy() \n",
    "    col_index = df.columns.get_loc(col_name)\n",
    "    # saving both copy of data frame and index number \n",
    "    # for column for use at the end of the function \n",
    "    for col in df.columns:        \n",
    "        # Isolating the text column       \n",
    "        # note - col is the column name not an index here   \n",
    "        if col != col_name:             \n",
    "            del df[col]             \n",
    "            # only keep 'col_name' column                   \n",
    "    df = basic_text_preprocessor(df[col_name], col_name)    \n",
    "        # using basic_text_preprocessor function from above\n",
    "        # to process the string data before vectorizing it   \n",
    "    ###########################################################################\n",
    "    # VECTORIZE STRING DATA\n",
    "    ###########################################################################\n",
    "    TF_IDF = TfidfVectorizer() \n",
    "    TF_IDF.fit(X)         \n",
    "    # Initialize TF_IDF and  fit to train text column X           \n",
    "    XT = TF_IDF.transform(X)\n",
    "    v_txt = TF_IDF.transform(df[col_name])\n",
    "    # Transform both X and the data frame column 'col_name'\n",
    "    # into TF_IDF vectors to be fit with Logistic Regression\n",
    "    ##########################################################################\n",
    "    # GET PREDICTION COLUMNS FROM MODEL\n",
    "    ##########################################################################            \n",
    "    MODEL1 = LogisticRegression(**params).fit(XT, np.ravel(Y))\n",
    "    # Fit model with tf_idf transformed train data X1T and train labels Y                     \n",
    "    predictions = MODEL1.predict_proba(v_txt)[:,1]\n",
    "    # Get prediction probabilities for vectorized text df column \n",
    "    new_col = col_name + str(' (predictions)')\n",
    "    # Naming a new column using original name plus the word 'predictions'\n",
    "    ##########################################################################\n",
    "    # FIT PREDICTION PROBABILITIES BACK INTO DATA FRAME AND RETURN\n",
    "    ##########################################################################\n",
    "    predictions = pd.DataFrame(predictions, columns = [new_col])\n",
    "    # Make predictions on new data column and convert into a dataframe column\n",
    "    predictions.index = df.index\n",
    "    # Keep index from original data frame\n",
    "    text_df = pd.concat([df_copy, predictions], axis = 1, join='outer')     \n",
    "    # Recreating original dataframe with prediction probabilities added\n",
    "    text_df.drop(columns = [col_name], inplace = True)\n",
    "    # removing column matching col_name\n",
    "    column_to_move = text_df.pop(new_col)\n",
    "    # getting new_col ready to move into place of col_name\n",
    "    text_df.insert(col_index, new_col, column_to_move)       \n",
    "    # inserting 'new_col in place of 'col_name'\n",
    "    return text_df\n"
   ]
  },
  {
   "cell_type": "code",
   "source": [
    "food_list = ['chocolate chip cookie',\n",
    "             'baked potato', \n",
    "             'creamed corn', \n",
    "             'vanilla ice cream', \n",
    "             'buttermilk pancakes', \n",
    "             'tomato soup',  \n",
    "             'chocolate fudge sundae',\n",
    "             'carrot cake',  \n",
    "             'vanilla shake',\n",
    "             'chocolate brownie',\n",
    "             'strawberry cupcake',\n",
    "             'french toast',\n",
    "             'vanilla yogurt',\n",
    "             'banana yogurt',\n",
    "             'T-Bone Steak',\n",
    "             'Bratwurst',\n",
    "             'Slice of Pepperoni Pizza' ]\n",
    "# Making list of food items, some are desserts and some are not\n",
    "\n",
    "calories_list = [55,145, 92, 137, 239, 91, 140, 200, \n",
    "                 254, 440, 200, 149, 208, 150, 249, 283, 100]\n",
    "# Making list of calories matching food items\n",
    "\n",
    "labels = [1,0,0,1,0,0,1,1,1,1,1,0,0,0,0,0,0]\n",
    "# Making target column of labels \n",
    "# saying whether food is dessert or not\n",
    "\n",
    "food_df = pd.DataFrame(list(zip(food_list, calories_list, labels)), \n",
    "                       columns=[\"Food Type\", \"Calories\", \"Dessert Item\"])\n",
    "display(food_df)\n",
    "print(food_df.dtypes)\n",
    "# creating training dataframe and looking at result \n",
    "\n",
    "food_list_test = ['ice cream cone',\n",
    "             'pumpkin pie', \n",
    "             'hot dog', \n",
    "             'vegetable casserole', \n",
    "             'Reuben Sandwich', \n",
    "             'strawberry popsicle']\n",
    "calories_list_test = [175,323, 127, 80, 618, 60] \n",
    "labels_test = [1,1,0,0,0,1]           \n",
    "\n",
    "food_df_test = pd.DataFrame(list(zip(food_list_test, calories_list_test, labels_test)), \n",
    "                       columns=[\"Food Type\", \"Calories\", \"Dessert Item\"])\n",
    "display(food_df_test)\n",
    "print(food_df_test.dtypes)\n",
    "# creating test dataframe and looking at result\n"
   ],
   "metadata": {
    "colab": {
     "base_uri": "https://localhost:8080/",
     "height": 930
    },
    "id": "Aa0uCzHTKW6E",
    "outputId": "ba506512-e2f9-451e-f821-89e5a96d0b34",
    "pycharm": {
     "name": "#%%\n"
    }
   },
   "execution_count": 2,
   "outputs": [
    {
     "data": {
      "text/plain": "                   Food Type  Calories  Dessert Item\n0      chocolate chip cookie        55             1\n1               baked potato       145             0\n2               creamed corn        92             0\n3          vanilla ice cream       137             1\n4        buttermilk pancakes       239             0\n5                tomato soup        91             0\n6     chocolate fudge sundae       140             1\n7                carrot cake       200             1\n8              vanilla shake       254             1\n9          chocolate brownie       440             1\n10        strawberry cupcake       200             1\n11              french toast       149             0\n12            vanilla yogurt       208             0\n13             banana yogurt       150             0\n14              T-Bone Steak       249             0\n15                 Bratwurst       283             0\n16  Slice of Pepperoni Pizza       100             0",
      "text/html": "<div>\n<style scoped>\n    .dataframe tbody tr th:only-of-type {\n        vertical-align: middle;\n    }\n\n    .dataframe tbody tr th {\n        vertical-align: top;\n    }\n\n    .dataframe thead th {\n        text-align: right;\n    }\n</style>\n<table border=\"1\" class=\"dataframe\">\n  <thead>\n    <tr style=\"text-align: right;\">\n      <th></th>\n      <th>Food Type</th>\n      <th>Calories</th>\n      <th>Dessert Item</th>\n    </tr>\n  </thead>\n  <tbody>\n    <tr>\n      <th>0</th>\n      <td>chocolate chip cookie</td>\n      <td>55</td>\n      <td>1</td>\n    </tr>\n    <tr>\n      <th>1</th>\n      <td>baked potato</td>\n      <td>145</td>\n      <td>0</td>\n    </tr>\n    <tr>\n      <th>2</th>\n      <td>creamed corn</td>\n      <td>92</td>\n      <td>0</td>\n    </tr>\n    <tr>\n      <th>3</th>\n      <td>vanilla ice cream</td>\n      <td>137</td>\n      <td>1</td>\n    </tr>\n    <tr>\n      <th>4</th>\n      <td>buttermilk pancakes</td>\n      <td>239</td>\n      <td>0</td>\n    </tr>\n    <tr>\n      <th>5</th>\n      <td>tomato soup</td>\n      <td>91</td>\n      <td>0</td>\n    </tr>\n    <tr>\n      <th>6</th>\n      <td>chocolate fudge sundae</td>\n      <td>140</td>\n      <td>1</td>\n    </tr>\n    <tr>\n      <th>7</th>\n      <td>carrot cake</td>\n      <td>200</td>\n      <td>1</td>\n    </tr>\n    <tr>\n      <th>8</th>\n      <td>vanilla shake</td>\n      <td>254</td>\n      <td>1</td>\n    </tr>\n    <tr>\n      <th>9</th>\n      <td>chocolate brownie</td>\n      <td>440</td>\n      <td>1</td>\n    </tr>\n    <tr>\n      <th>10</th>\n      <td>strawberry cupcake</td>\n      <td>200</td>\n      <td>1</td>\n    </tr>\n    <tr>\n      <th>11</th>\n      <td>french toast</td>\n      <td>149</td>\n      <td>0</td>\n    </tr>\n    <tr>\n      <th>12</th>\n      <td>vanilla yogurt</td>\n      <td>208</td>\n      <td>0</td>\n    </tr>\n    <tr>\n      <th>13</th>\n      <td>banana yogurt</td>\n      <td>150</td>\n      <td>0</td>\n    </tr>\n    <tr>\n      <th>14</th>\n      <td>T-Bone Steak</td>\n      <td>249</td>\n      <td>0</td>\n    </tr>\n    <tr>\n      <th>15</th>\n      <td>Bratwurst</td>\n      <td>283</td>\n      <td>0</td>\n    </tr>\n    <tr>\n      <th>16</th>\n      <td>Slice of Pepperoni Pizza</td>\n      <td>100</td>\n      <td>0</td>\n    </tr>\n  </tbody>\n</table>\n</div>"
     },
     "metadata": {},
     "output_type": "display_data"
    },
    {
     "name": "stdout",
     "output_type": "stream",
     "text": [
      "Food Type       object\n",
      "Calories         int64\n",
      "Dessert Item     int64\n",
      "dtype: object\n"
     ]
    },
    {
     "data": {
      "text/plain": "             Food Type  Calories  Dessert Item\n0       ice cream cone       175             1\n1          pumpkin pie       323             1\n2              hot dog       127             0\n3  vegetable casserole        80             0\n4      Reuben Sandwich       618             0\n5  strawberry popsicle        60             1",
      "text/html": "<div>\n<style scoped>\n    .dataframe tbody tr th:only-of-type {\n        vertical-align: middle;\n    }\n\n    .dataframe tbody tr th {\n        vertical-align: top;\n    }\n\n    .dataframe thead th {\n        text-align: right;\n    }\n</style>\n<table border=\"1\" class=\"dataframe\">\n  <thead>\n    <tr style=\"text-align: right;\">\n      <th></th>\n      <th>Food Type</th>\n      <th>Calories</th>\n      <th>Dessert Item</th>\n    </tr>\n  </thead>\n  <tbody>\n    <tr>\n      <th>0</th>\n      <td>ice cream cone</td>\n      <td>175</td>\n      <td>1</td>\n    </tr>\n    <tr>\n      <th>1</th>\n      <td>pumpkin pie</td>\n      <td>323</td>\n      <td>1</td>\n    </tr>\n    <tr>\n      <th>2</th>\n      <td>hot dog</td>\n      <td>127</td>\n      <td>0</td>\n    </tr>\n    <tr>\n      <th>3</th>\n      <td>vegetable casserole</td>\n      <td>80</td>\n      <td>0</td>\n    </tr>\n    <tr>\n      <th>4</th>\n      <td>Reuben Sandwich</td>\n      <td>618</td>\n      <td>0</td>\n    </tr>\n    <tr>\n      <th>5</th>\n      <td>strawberry popsicle</td>\n      <td>60</td>\n      <td>1</td>\n    </tr>\n  </tbody>\n</table>\n</div>"
     },
     "metadata": {},
     "output_type": "display_data"
    },
    {
     "name": "stdout",
     "output_type": "stream",
     "text": [
      "Food Type       object\n",
      "Calories         int64\n",
      "Dessert Item     int64\n",
      "dtype: object\n"
     ]
    }
   ]
  },
  {
   "cell_type": "code",
   "source": [
    "# train data -  food_df\n",
    "# test data - food_df_test\n",
    "\n",
    "col_name = \"Food Type\"\n",
    "label_name = \"Dessert Item\"\n",
    "params = {'C': 1, 'penalty': 'l2'}\n",
    "\n",
    "display(food_df_test)\n",
    "# Before functions\n",
    "\n",
    "\n",
    "Full_test = Model_Stacking_String_Matrix(food_df_test.copy(), \n",
    "                                   col_name, \n",
    "                                   food_df[col_name].copy(), \n",
    "                                   food_df[label_name].copy(),\n",
    "                                   **params)\n",
    "display(Full_test)\n",
    "# After functions\n"
   ],
   "metadata": {
    "colab": {
     "base_uri": "https://localhost:8080/",
     "height": 507
    },
    "id": "1Lnd4VDGVsSw",
    "outputId": "d95d5cf9-190c-450a-dd32-e102309a6345",
    "pycharm": {
     "name": "#%%\n"
    }
   },
   "execution_count": 3,
   "outputs": [
    {
     "data": {
      "text/plain": "             Food Type  Calories  Dessert Item\n0       ice cream cone       175             1\n1          pumpkin pie       323             1\n2              hot dog       127             0\n3  vegetable casserole        80             0\n4      Reuben Sandwich       618             0\n5  strawberry popsicle        60             1",
      "text/html": "<div>\n<style scoped>\n    .dataframe tbody tr th:only-of-type {\n        vertical-align: middle;\n    }\n\n    .dataframe tbody tr th {\n        vertical-align: top;\n    }\n\n    .dataframe thead th {\n        text-align: right;\n    }\n</style>\n<table border=\"1\" class=\"dataframe\">\n  <thead>\n    <tr style=\"text-align: right;\">\n      <th></th>\n      <th>Food Type</th>\n      <th>Calories</th>\n      <th>Dessert Item</th>\n    </tr>\n  </thead>\n  <tbody>\n    <tr>\n      <th>0</th>\n      <td>ice cream cone</td>\n      <td>175</td>\n      <td>1</td>\n    </tr>\n    <tr>\n      <th>1</th>\n      <td>pumpkin pie</td>\n      <td>323</td>\n      <td>1</td>\n    </tr>\n    <tr>\n      <th>2</th>\n      <td>hot dog</td>\n      <td>127</td>\n      <td>0</td>\n    </tr>\n    <tr>\n      <th>3</th>\n      <td>vegetable casserole</td>\n      <td>80</td>\n      <td>0</td>\n    </tr>\n    <tr>\n      <th>4</th>\n      <td>Reuben Sandwich</td>\n      <td>618</td>\n      <td>0</td>\n    </tr>\n    <tr>\n      <th>5</th>\n      <td>strawberry popsicle</td>\n      <td>60</td>\n      <td>1</td>\n    </tr>\n  </tbody>\n</table>\n</div>"
     },
     "metadata": {},
     "output_type": "display_data"
    },
    {
     "data": {
      "text/plain": "   Food Type (predictions)  Calories  Dessert Item\n0                 0.500114       175             1\n1                 0.397064       323             1\n2                 0.397064       127             0\n3                 0.397064        80             0\n4                 0.397064       618             0\n5                 0.481061        60             1",
      "text/html": "<div>\n<style scoped>\n    .dataframe tbody tr th:only-of-type {\n        vertical-align: middle;\n    }\n\n    .dataframe tbody tr th {\n        vertical-align: top;\n    }\n\n    .dataframe thead th {\n        text-align: right;\n    }\n</style>\n<table border=\"1\" class=\"dataframe\">\n  <thead>\n    <tr style=\"text-align: right;\">\n      <th></th>\n      <th>Food Type (predictions)</th>\n      <th>Calories</th>\n      <th>Dessert Item</th>\n    </tr>\n  </thead>\n  <tbody>\n    <tr>\n      <th>0</th>\n      <td>0.500114</td>\n      <td>175</td>\n      <td>1</td>\n    </tr>\n    <tr>\n      <th>1</th>\n      <td>0.397064</td>\n      <td>323</td>\n      <td>1</td>\n    </tr>\n    <tr>\n      <th>2</th>\n      <td>0.397064</td>\n      <td>127</td>\n      <td>0</td>\n    </tr>\n    <tr>\n      <th>3</th>\n      <td>0.397064</td>\n      <td>80</td>\n      <td>0</td>\n    </tr>\n    <tr>\n      <th>4</th>\n      <td>0.397064</td>\n      <td>618</td>\n      <td>0</td>\n    </tr>\n    <tr>\n      <th>5</th>\n      <td>0.481061</td>\n      <td>60</td>\n      <td>1</td>\n    </tr>\n  </tbody>\n</table>\n</div>"
     },
     "metadata": {},
     "output_type": "display_data"
    }
   ]
  }
 ]
}